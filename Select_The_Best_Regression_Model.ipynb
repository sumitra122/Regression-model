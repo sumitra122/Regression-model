{
  "nbformat": 4,
  "nbformat_minor": 0,
  "metadata": {
    "colab": {
      "name": "Select_The_Best_Regression_Model.ipynb",
      "provenance": [],
      "collapsed_sections": [
        "EA-AC3F_mb8m",
        "IPYPvdK_o2lJ",
        "hJRMLCwxphuC"
      ],
      "authorship_tag": "ABX9TyNOufv1EuEXvMlSVamJHPTC",
      "include_colab_link": true
    },
    "kernelspec": {
      "name": "python3",
      "display_name": "Python 3"
    }
  },
  "cells": [
    {
      "cell_type": "markdown",
      "metadata": {
        "id": "view-in-github",
        "colab_type": "text"
      },
      "source": [
        "<a href=\"https://colab.research.google.com/github/sumitra122/Regression-model/blob/master/Select_The_Best_Regression_Model.ipynb\" target=\"_parent\"><img src=\"https://colab.research.google.com/assets/colab-badge.svg\" alt=\"Open In Colab\"/></a>"
      ]
    },
    {
      "cell_type": "markdown",
      "metadata": {
        "id": "e9iHLKqksADA",
        "colab_type": "text"
      },
      "source": [
        "**I have taken a real world dataset with several features and lots of observations. Now I have diployed each of the regression models of the toolkit on the dataset to selected the best regression model, and there best performance result is measured by coefficeinf or r squared or adjusted r squared**"
      ]
    },
    {
      "cell_type": "markdown",
      "metadata": {
        "id": "1ViqnIKfkL81",
        "colab_type": "text"
      },
      "source": [
        "# **Multiple Linear Regression**"
      ]
    },
    {
      "cell_type": "markdown",
      "metadata": {
        "id": "DbBhnF2LkY_Q",
        "colab_type": "text"
      },
      "source": [
        "importing libraries"
      ]
    },
    {
      "cell_type": "code",
      "metadata": {
        "id": "7qC2Ub84MA1e",
        "colab_type": "code",
        "colab": {}
      },
      "source": [
        "import numpy as np\n",
        "import matplotlib.pyplot as plt\n",
        "import pandas as pd"
      ],
      "execution_count": 0,
      "outputs": []
    },
    {
      "cell_type": "markdown",
      "metadata": {
        "id": "MiUiDXDgki-p",
        "colab_type": "text"
      },
      "source": [
        "importing datasets"
      ]
    },
    {
      "cell_type": "code",
      "metadata": {
        "id": "kMT5s_kkMMJA",
        "colab_type": "code",
        "colab": {}
      },
      "source": [
        "dataset = pd.read_csv('datasets_88705_204267_Real estate (1).csv')\n",
        "x = dataset.iloc[:, :-1].values\n",
        "y = dataset.iloc[:, -1].values"
      ],
      "execution_count": 0,
      "outputs": []
    },
    {
      "cell_type": "markdown",
      "metadata": {
        "id": "-vxMsayJknGs",
        "colab_type": "text"
      },
      "source": [
        "Splitting the dataset into the Training set and Test set"
      ]
    },
    {
      "cell_type": "code",
      "metadata": {
        "id": "iAMl-dWZQEOu",
        "colab_type": "code",
        "colab": {}
      },
      "source": [
        "from sklearn.model_selection import train_test_split\n",
        "x_train, x_test, y_train, y_test = train_test_split(x, y, test_size = 0.2, random_state = 0)"
      ],
      "execution_count": 0,
      "outputs": []
    },
    {
      "cell_type": "markdown",
      "metadata": {
        "id": "ibBZh4N_kuHq",
        "colab_type": "text"
      },
      "source": [
        "Training the Multiple Linear Regression model on the Training set"
      ]
    },
    {
      "cell_type": "code",
      "metadata": {
        "id": "TM0WtE4aQJKD",
        "colab_type": "code",
        "outputId": "e20208b5-fca9-43b4-a7e6-420a3f2b45a4",
        "colab": {
          "base_uri": "https://localhost:8080/",
          "height": 33
        }
      },
      "source": [
        "from sklearn.linear_model import LinearRegression\n",
        "regressor = LinearRegression()\n",
        "regressor.fit(x_train, y_train)"
      ],
      "execution_count": 0,
      "outputs": [
        {
          "output_type": "execute_result",
          "data": {
            "text/plain": [
              "LinearRegression(copy_X=True, fit_intercept=True, n_jobs=None, normalize=False)"
            ]
          },
          "metadata": {
            "tags": []
          },
          "execution_count": 85
        }
      ]
    },
    {
      "cell_type": "markdown",
      "metadata": {
        "id": "_gs7OWwCkyTo",
        "colab_type": "text"
      },
      "source": [
        "Training the Multiple Linear Regression model on the Training set"
      ]
    },
    {
      "cell_type": "code",
      "metadata": {
        "id": "6aGZkhEgio6f",
        "colab_type": "code",
        "outputId": "ac2d959a-d417-4d91-e144-a2af8a4f5410",
        "colab": {
          "base_uri": "https://localhost:8080/",
          "height": 1000
        }
      },
      "source": [
        "y_pred = regressor.predict(x_test)\n",
        "np.set_printoptions(precision=2)\n",
        "print(np.concatenate((y_pred.reshape(len(y_pred),1), y_test.reshape(len(y_test),1)),1))"
      ],
      "execution_count": 0,
      "outputs": [
        {
          "output_type": "stream",
          "text": [
            "[[77.81 45.3 ]\n",
            " [15.94 14.4 ]\n",
            " [54.52 46.  ]\n",
            " [17.7  15.6 ]\n",
            " [35.64 50.2 ]\n",
            " [36.91 38.1 ]\n",
            " [44.47 48.5 ]\n",
            " [37.94 41.4 ]\n",
            " [55.82 51.6 ]\n",
            " [43.96 40.1 ]\n",
            " [41.51 42.  ]\n",
            " [18.35 42.4 ]\n",
            " [35.16 28.5 ]\n",
            " [42.21 39.1 ]\n",
            " [55.57 53.7 ]\n",
            " [48.06 36.8 ]\n",
            " [37.37 40.6 ]\n",
            " [48.9  55.2 ]\n",
            " [43.44 39.3 ]\n",
            " [44.51 44.3 ]\n",
            " [52.37 53.5 ]\n",
            " [27.15 25.3 ]\n",
            " [36.76 22.8 ]\n",
            " [47.65 51.7 ]\n",
            " [54.58 45.5 ]\n",
            " [42.66 34.4 ]\n",
            " [43.03 31.6 ]\n",
            " [22.23 25.9 ]\n",
            " [51.54 49.5 ]\n",
            " [25.82 24.7 ]\n",
            " [49.85 51.7 ]\n",
            " [30.79 29.7 ]\n",
            " [48.61 45.4 ]\n",
            " [45.65 50.5 ]\n",
            " [42.77 26.5 ]\n",
            " [29.06 30.1 ]\n",
            " [47.67 46.1 ]\n",
            " [26.31 28.9 ]\n",
            " [53.29 54.4 ]\n",
            " [13.63 15.  ]\n",
            " [47.58 44.9 ]\n",
            " [35.63 29.8 ]\n",
            " [29.21 23.6 ]\n",
            " [49.31 48.  ]\n",
            " [16.6  16.7 ]\n",
            " [40.97 40.9 ]\n",
            " [40.28 40.2 ]\n",
            " [17.25 12.9 ]\n",
            " [24.96 21.3 ]\n",
            " [52.01 62.1 ]\n",
            " [55.61 63.9 ]\n",
            " [35.97 40.3 ]\n",
            " [48.67 42.2 ]\n",
            " [15.97 19.1 ]\n",
            " [27.29 28.4 ]\n",
            " [34.36 28.5 ]\n",
            " [53.08 60.7 ]\n",
            " [38.17 37.5 ]\n",
            " [40.23 39.3 ]\n",
            " [29.18 28.8 ]\n",
            " [42.71 42.3 ]\n",
            " [55.25 44.3 ]\n",
            " [40.25 42.6 ]\n",
            " [56.05 57.4 ]\n",
            " [44.06 42.2 ]\n",
            " [25.31 25.7 ]\n",
            " [15.07 13.2 ]\n",
            " [19.3  27.  ]\n",
            " [57.37 56.2 ]\n",
            " [39.19 38.3 ]\n",
            " [24.75 20.8 ]\n",
            " [54.63 43.1 ]\n",
            " [44.15 78.3 ]\n",
            " [27.39 20.9 ]\n",
            " [39.08 32.5 ]\n",
            " [29.4  33.4 ]\n",
            " [27.3  32.1 ]\n",
            " [16.46 19.2 ]\n",
            " [50.66 53.  ]\n",
            " [40.25 38.2 ]\n",
            " [48.92 46.7 ]\n",
            " [27.09 24.6 ]\n",
            " [39.35 36.2 ]]\n"
          ],
          "name": "stdout"
        }
      ]
    },
    {
      "cell_type": "markdown",
      "metadata": {
        "id": "5ZQTBlWrkz7Q",
        "colab_type": "text"
      },
      "source": [
        "Evaluating the Model Performance"
      ]
    },
    {
      "cell_type": "code",
      "metadata": {
        "id": "zzVcdu_Ujl5E",
        "colab_type": "code",
        "outputId": "6c5efea1-0216-462d-c440-a3798c7795e2",
        "colab": {
          "base_uri": "https://localhost:8080/",
          "height": 33
        }
      },
      "source": [
        "from sklearn.metrics import r2_score\n",
        "r2_score(y_test, y_pred)"
      ],
      "execution_count": 0,
      "outputs": [
        {
          "output_type": "execute_result",
          "data": {
            "text/plain": [
              "0.6557366417645031"
            ]
          },
          "metadata": {
            "tags": []
          },
          "execution_count": 89
        }
      ]
    },
    {
      "cell_type": "markdown",
      "metadata": {
        "id": "eSsGJr6Ok3Wv",
        "colab_type": "text"
      },
      "source": [
        "# **Polynomial Regression**"
      ]
    },
    {
      "cell_type": "code",
      "metadata": {
        "id": "-iSujn2ulLIi",
        "colab_type": "code",
        "colab": {}
      },
      "source": [
        "import numpy as np\n",
        "import matplotlib.pyplot as plt\n",
        "import pandas as pd"
      ],
      "execution_count": 0,
      "outputs": []
    },
    {
      "cell_type": "code",
      "metadata": {
        "id": "110wXjmwlMU6",
        "colab_type": "code",
        "colab": {}
      },
      "source": [
        "dataset = pd.read_csv('datasets_88705_204267_Real estate (1).csv')\n",
        "X = dataset.iloc[:, :-1].values\n",
        "y = dataset.iloc[:, -1].values"
      ],
      "execution_count": 0,
      "outputs": []
    },
    {
      "cell_type": "code",
      "metadata": {
        "id": "pVKyTZ0Llqe_",
        "colab_type": "code",
        "colab": {}
      },
      "source": [
        "from sklearn.model_selection import train_test_split\n",
        "X_train, X_test, y_train, y_test = train_test_split(X, y, test_size = 0.2, random_state = 0)\n"
      ],
      "execution_count": 0,
      "outputs": []
    },
    {
      "cell_type": "code",
      "metadata": {
        "id": "wy66wg5qlvMV",
        "colab_type": "code",
        "outputId": "b725e2b0-4b15-4371-b762-834231eb5eb4",
        "colab": {
          "base_uri": "https://localhost:8080/",
          "height": 33
        }
      },
      "source": [
        "from sklearn.preprocessing import PolynomialFeatures\n",
        "from sklearn.linear_model import LinearRegression\n",
        "poly_reg = PolynomialFeatures(degree = 4)\n",
        "X_poly = poly_reg.fit_transform(X_train)\n",
        "regressor = LinearRegression()\n",
        "regressor.fit(X_poly, y_train)"
      ],
      "execution_count": 0,
      "outputs": [
        {
          "output_type": "execute_result",
          "data": {
            "text/plain": [
              "LinearRegression(copy_X=True, fit_intercept=True, n_jobs=None, normalize=False)"
            ]
          },
          "metadata": {
            "tags": []
          },
          "execution_count": 125
        }
      ]
    },
    {
      "cell_type": "code",
      "metadata": {
        "id": "WMZSsTbHlwGs",
        "colab_type": "code",
        "outputId": "6b1af8b6-5f67-4bad-ba41-bfd1ef39b555",
        "colab": {
          "base_uri": "https://localhost:8080/",
          "height": 1000
        }
      },
      "source": [
        "y_pred = regressor.predict(poly_reg.transform(X_test))\n",
        "np.set_printoptions(precision=2)\n",
        "print(np.concatenate((y_pred.reshape(len(y_pred),1), y_test.reshape(len(y_test),1)),1))"
      ],
      "execution_count": 0,
      "outputs": [
        {
          "output_type": "stream",
          "text": [
            "[[  47.34   45.3 ]\n",
            " [  20.75   14.4 ]\n",
            " [  49.21   46.  ]\n",
            " [  75.06   15.6 ]\n",
            " [  60.61   50.2 ]\n",
            " [  21.43   38.1 ]\n",
            " [  45.9    48.5 ]\n",
            " [  24.31   41.4 ]\n",
            " [  47.65   51.6 ]\n",
            " [  51.23   40.1 ]\n",
            " [  30.54   42.  ]\n",
            " [  25.9    42.4 ]\n",
            " [  47.91   28.5 ]\n",
            " [  36.17   39.1 ]\n",
            " [  61.31   53.7 ]\n",
            " [  67.66   36.8 ]\n",
            " [  40.18   40.6 ]\n",
            " [  50.92   55.2 ]\n",
            " [  10.73   39.3 ]\n",
            " [  38.95   44.3 ]\n",
            " [  45.06   53.5 ]\n",
            " [  15.32   25.3 ]\n",
            " [  57.55   22.8 ]\n",
            " [  49.85   51.7 ]\n",
            " [  39.41   45.5 ]\n",
            " [  32.35   34.4 ]\n",
            " [  42.62   31.6 ]\n",
            " [   3.6    25.9 ]\n",
            " [  59.33   49.5 ]\n",
            " [ -56.42   24.7 ]\n",
            " [  58.63   51.7 ]\n",
            " [  11.72   29.7 ]\n",
            " [  46.43   45.4 ]\n",
            " [  62.74   50.5 ]\n",
            " [  26.57   26.5 ]\n",
            " [  38.62   30.1 ]\n",
            " [  75.14   46.1 ]\n",
            " [  -0.52   28.9 ]\n",
            " [  23.75   54.4 ]\n",
            " [-349.56   15.  ]\n",
            " [  30.32   44.9 ]\n",
            " [  20.52   29.8 ]\n",
            " [  36.82   23.6 ]\n",
            " [  46.43   48.  ]\n",
            " [  11.06   16.7 ]\n",
            " [  48.14   40.9 ]\n",
            " [  32.68   40.2 ]\n",
            " [  -6.83   12.9 ]\n",
            " [   9.39   21.3 ]\n",
            " [  55.15   62.1 ]\n",
            " [  30.05   63.9 ]\n",
            " [  17.01   40.3 ]\n",
            " [  34.81   42.2 ]\n",
            " [   8.84   19.1 ]\n",
            " [  42.3    28.4 ]\n",
            " [  33.32   28.5 ]\n",
            " [  64.36   60.7 ]\n",
            " [  47.18   37.5 ]\n",
            " [  35.22   39.3 ]\n",
            " [  22.78   28.8 ]\n",
            " [  31.45   42.3 ]\n",
            " [  27.47   44.3 ]\n",
            " [  26.66   42.6 ]\n",
            " [  50.97   57.4 ]\n",
            " [  39.66   42.2 ]\n",
            " [  27.01   25.7 ]\n",
            " [   7.62   13.2 ]\n",
            " [  20.91   27.  ]\n",
            " [  51.66   56.2 ]\n",
            " [ -17.12   38.3 ]\n",
            " [  59.     20.8 ]\n",
            " [  48.43   43.1 ]\n",
            " [  49.14   78.3 ]\n",
            " [  25.35   20.9 ]\n",
            " [  40.61   32.5 ]\n",
            " [  36.11   33.4 ]\n",
            " [   2.94   32.1 ]\n",
            " [  -5.96   19.2 ]\n",
            " [  52.4    53.  ]\n",
            " [  16.8    38.2 ]\n",
            " [  56.42   46.7 ]\n",
            " [   2.1    24.6 ]\n",
            " [  57.46   36.2 ]]\n"
          ],
          "name": "stdout"
        }
      ]
    },
    {
      "cell_type": "code",
      "metadata": {
        "id": "ZprPySe-l94S",
        "colab_type": "code",
        "outputId": "e566a07a-dcb4-4923-ee05-6e224d9280e7",
        "colab": {
          "base_uri": "https://localhost:8080/",
          "height": 33
        }
      },
      "source": [
        "from sklearn.metrics import r2_score\n",
        "r2_score(y_test, y_pred)"
      ],
      "execution_count": 0,
      "outputs": [
        {
          "output_type": "execute_result",
          "data": {
            "text/plain": [
              "-10.420682553584902"
            ]
          },
          "metadata": {
            "tags": []
          },
          "execution_count": 97
        }
      ]
    },
    {
      "cell_type": "markdown",
      "metadata": {
        "id": "EA-AC3F_mb8m",
        "colab_type": "text"
      },
      "source": [
        "# **Support Vector Regression (SVR)**"
      ]
    },
    {
      "cell_type": "code",
      "metadata": {
        "id": "Yp42wFvOmr8r",
        "colab_type": "code",
        "colab": {}
      },
      "source": [
        "import numpy as np\n",
        "import matplotlib.pyplot as plt\n",
        "import pandas as pd"
      ],
      "execution_count": 0,
      "outputs": []
    },
    {
      "cell_type": "code",
      "metadata": {
        "id": "se1uuDSrm1xt",
        "colab_type": "code",
        "colab": {}
      },
      "source": [
        "dataset = pd.read_csv('datasets_88705_204267_Real estate (1).csv')\n",
        "X = dataset.iloc[:, :-1].values\n",
        "y = dataset.iloc[:, -1].values\n",
        "y = y.reshape(len(y),1)"
      ],
      "execution_count": 0,
      "outputs": []
    },
    {
      "cell_type": "code",
      "metadata": {
        "id": "MPMqmqn2m91J",
        "colab_type": "code",
        "colab": {}
      },
      "source": [
        "from sklearn.model_selection import train_test_split\n",
        "X_train, X_test, y_train, y_test = train_test_split(X, y, test_size = 0.2, random_state = 0)"
      ],
      "execution_count": 0,
      "outputs": []
    },
    {
      "cell_type": "markdown",
      "metadata": {
        "id": "jAi0oyssnLuh",
        "colab_type": "text"
      },
      "source": [
        "In svr we use feature scaling because in this we the explict equation of the dependent variable with respect to the features. And mostly there are not those coefficients multiplying each of the features and therefore not compensating with lower values for the featurs takng high values \"NO\" so this time the svr model has an implict equation to kmow th DV with respect to features."
      ]
    },
    {
      "cell_type": "code",
      "metadata": {
        "id": "1fRRQaQ4oO9W",
        "colab_type": "code",
        "colab": {}
      },
      "source": [
        "from sklearn.preprocessing import StandardScaler\n",
        "sc_X = StandardScaler()\n",
        "sc_y = StandardScaler()\n",
        "X_train = sc_X.fit_transform(X_train)\n",
        "y_train = sc_y.fit_transform(y_train)\n"
      ],
      "execution_count": 0,
      "outputs": []
    },
    {
      "cell_type": "code",
      "metadata": {
        "id": "US6Ox_oloViT",
        "colab_type": "code",
        "outputId": "1e921a75-374e-46d5-98b5-87fffb2da944",
        "colab": {
          "base_uri": "https://localhost:8080/",
          "height": 104
        }
      },
      "source": [
        "# Training the SVR model on the Training set\n",
        "from sklearn.svm import SVR\n",
        "regressor = SVR(kernel = 'rbf')\n",
        "regressor.fit(X_train, y_train)"
      ],
      "execution_count": 0,
      "outputs": [
        {
          "output_type": "stream",
          "text": [
            "/usr/local/lib/python3.6/dist-packages/sklearn/utils/validation.py:760: DataConversionWarning: A column-vector y was passed when a 1d array was expected. Please change the shape of y to (n_samples, ), for example using ravel().\n",
            "  y = column_or_1d(y, warn=True)\n"
          ],
          "name": "stderr"
        },
        {
          "output_type": "execute_result",
          "data": {
            "text/plain": [
              "SVR(C=1.0, cache_size=200, coef0=0.0, degree=3, epsilon=0.1, gamma='scale',\n",
              "    kernel='rbf', max_iter=-1, shrinking=True, tol=0.001, verbose=False)"
            ]
          },
          "metadata": {
            "tags": []
          },
          "execution_count": 104
        }
      ]
    },
    {
      "cell_type": "code",
      "metadata": {
        "id": "vW1-4YvynDuA",
        "colab_type": "code",
        "outputId": "014b88f8-dbf4-496f-a764-3472dd8ef4e3",
        "colab": {
          "base_uri": "https://localhost:8080/",
          "height": 1000
        }
      },
      "source": [
        "# Predicting the Test set results\n",
        "y_pred = sc_y.inverse_transform(regressor.predict(sc_X.transform(X_test)))\n",
        "np.set_printoptions(precision=2)\n",
        "print(np.concatenate((y_pred.reshape(len(y_pred),1), y_test.reshape(len(y_test),1)),1))\n"
      ],
      "execution_count": 0,
      "outputs": [
        {
          "output_type": "stream",
          "text": [
            "[[39.95 45.3 ]\n",
            " [15.79 14.4 ]\n",
            " [40.75 46.  ]\n",
            " [18.38 15.6 ]\n",
            " [42.16 50.2 ]\n",
            " [40.23 38.1 ]\n",
            " [41.99 48.5 ]\n",
            " [35.96 41.4 ]\n",
            " [54.71 51.6 ]\n",
            " [44.22 40.1 ]\n",
            " [44.72 42.  ]\n",
            " [36.87 42.4 ]\n",
            " [39.47 28.5 ]\n",
            " [41.76 39.1 ]\n",
            " [50.11 53.7 ]\n",
            " [38.96 36.8 ]\n",
            " [39.91 40.6 ]\n",
            " [42.92 55.2 ]\n",
            " [39.39 39.3 ]\n",
            " [41.95 44.3 ]\n",
            " [50.38 53.5 ]\n",
            " [25.9  25.3 ]\n",
            " [35.17 22.8 ]\n",
            " [47.07 51.7 ]\n",
            " [52.42 45.5 ]\n",
            " [45.05 34.4 ]\n",
            " [45.94 31.6 ]\n",
            " [22.21 25.9 ]\n",
            " [46.12 49.5 ]\n",
            " [22.86 24.7 ]\n",
            " [38.32 51.7 ]\n",
            " [28.61 29.7 ]\n",
            " [46.48 45.4 ]\n",
            " [39.97 50.5 ]\n",
            " [45.16 26.5 ]\n",
            " [26.   30.1 ]\n",
            " [43.37 46.1 ]\n",
            " [32.53 28.9 ]\n",
            " [48.87 54.4 ]\n",
            " [17.89 15.  ]\n",
            " [47.58 44.9 ]\n",
            " [35.39 29.8 ]\n",
            " [29.76 23.6 ]\n",
            " [41.64 48.  ]\n",
            " [20.8  16.7 ]\n",
            " [40.96 40.9 ]\n",
            " [38.91 40.2 ]\n",
            " [20.81 12.9 ]\n",
            " [26.33 21.3 ]\n",
            " [43.42 62.1 ]\n",
            " [45.33 63.9 ]\n",
            " [33.39 40.3 ]\n",
            " [39.93 42.2 ]\n",
            " [17.65 19.1 ]\n",
            " [23.23 28.4 ]\n",
            " [35.86 28.5 ]\n",
            " [47.51 60.7 ]\n",
            " [39.2  37.5 ]\n",
            " [46.28 39.3 ]\n",
            " [25.19 28.8 ]\n",
            " [38.58 42.3 ]\n",
            " [40.69 44.3 ]\n",
            " [39.58 42.6 ]\n",
            " [51.45 57.4 ]\n",
            " [37.61 42.2 ]\n",
            " [20.6  25.7 ]\n",
            " [18.59 13.2 ]\n",
            " [30.74 27.  ]\n",
            " [48.67 56.2 ]\n",
            " [38.9  38.3 ]\n",
            " [24.77 20.8 ]\n",
            " [49.61 43.1 ]\n",
            " [42.85 78.3 ]\n",
            " [27.88 20.9 ]\n",
            " [40.64 32.5 ]\n",
            " [28.63 33.4 ]\n",
            " [31.1  32.1 ]\n",
            " [14.23 19.2 ]\n",
            " [44.72 53.  ]\n",
            " [39.12 38.2 ]\n",
            " [46.44 46.7 ]\n",
            " [25.   24.6 ]\n",
            " [39.88 36.2 ]]\n"
          ],
          "name": "stdout"
        }
      ]
    },
    {
      "cell_type": "code",
      "metadata": {
        "id": "fLsfhgqtoZuW",
        "colab_type": "code",
        "outputId": "bc9f0034-55c9-462c-a964-66ef9a79b171",
        "colab": {
          "base_uri": "https://localhost:8080/",
          "height": 33
        }
      },
      "source": [
        "# Evaluating the Model Performance\n",
        "from sklearn.metrics import r2_score\n",
        "r2_score(y_test, y_pred)"
      ],
      "execution_count": 0,
      "outputs": [
        {
          "output_type": "execute_result",
          "data": {
            "text/plain": [
              "0.6572104630833893"
            ]
          },
          "metadata": {
            "tags": []
          },
          "execution_count": 106
        }
      ]
    },
    {
      "cell_type": "markdown",
      "metadata": {
        "id": "IPYPvdK_o2lJ",
        "colab_type": "text"
      },
      "source": [
        "# **Decision Tree Regression**"
      ]
    },
    {
      "cell_type": "code",
      "metadata": {
        "id": "wNqp4Vhmo9PZ",
        "colab_type": "code",
        "colab": {}
      },
      "source": [
        "# Importing the libraries\n",
        "import numpy as np\n",
        "import matplotlib.pyplot as plt\n",
        "import pandas as pd"
      ],
      "execution_count": 0,
      "outputs": []
    },
    {
      "cell_type": "code",
      "metadata": {
        "id": "3BXuLBqAo_yN",
        "colab_type": "code",
        "colab": {}
      },
      "source": [
        "# Importing the dataset\n",
        "dataset = pd.read_csv('datasets_88705_204267_Real estate (1).csv')\n",
        "X = dataset.iloc[:, :-1].values\n",
        "y = dataset.iloc[:, -1].values"
      ],
      "execution_count": 0,
      "outputs": []
    },
    {
      "cell_type": "code",
      "metadata": {
        "id": "wygMhIghpAXH",
        "colab_type": "code",
        "colab": {}
      },
      "source": [
        "# Splitting the dataset into the Training set and Test set\n",
        "from sklearn.model_selection import train_test_split\n",
        "X_train, X_test, y_train, y_test = train_test_split(X, y, test_size = 0.2, random_state = 0)\n"
      ],
      "execution_count": 0,
      "outputs": []
    },
    {
      "cell_type": "code",
      "metadata": {
        "id": "7mw7jR0epAvk",
        "colab_type": "code",
        "outputId": "9e26a38b-2142-42db-a1e1-d1dc894cdebc",
        "colab": {
          "base_uri": "https://localhost:8080/",
          "height": 117
        }
      },
      "source": [
        "# Training the Decision Tree Regression model on the Training set\n",
        "from sklearn.tree import DecisionTreeRegressor\n",
        "regressor = DecisionTreeRegressor(random_state = 0)\n",
        "regressor.fit(X_train, y_train)\n"
      ],
      "execution_count": 0,
      "outputs": [
        {
          "output_type": "execute_result",
          "data": {
            "text/plain": [
              "DecisionTreeRegressor(ccp_alpha=0.0, criterion='mse', max_depth=None,\n",
              "                      max_features=None, max_leaf_nodes=None,\n",
              "                      min_impurity_decrease=0.0, min_impurity_split=None,\n",
              "                      min_samples_leaf=1, min_samples_split=2,\n",
              "                      min_weight_fraction_leaf=0.0, presort='deprecated',\n",
              "                      random_state=0, splitter='best')"
            ]
          },
          "metadata": {
            "tags": []
          },
          "execution_count": 110
        }
      ]
    },
    {
      "cell_type": "code",
      "metadata": {
        "id": "aKY-WAKMpBEJ",
        "colab_type": "code",
        "outputId": "e9447397-3de7-49ec-9f22-23eb18d0fd71",
        "colab": {
          "base_uri": "https://localhost:8080/",
          "height": 1000
        }
      },
      "source": [
        "# Predicting the Test set results\n",
        "y_pred = regressor.predict(X_test)\n",
        "np.set_printoptions(precision=2)\n",
        "print(np.concatenate((y_pred.reshape(len(y_pred),1), y_test.reshape(len(y_test),1)),1))"
      ],
      "execution_count": 0,
      "outputs": [
        {
          "output_type": "stream",
          "text": [
            "[[117.5  45.3]\n",
            " [ 12.8  14.4]\n",
            " [ 40.9  46. ]\n",
            " [ 17.4  15.6]\n",
            " [ 29.3  50.2]\n",
            " [ 46.6  38.1]\n",
            " [ 41.   48.5]\n",
            " [ 34.2  41.4]\n",
            " [ 58.1  51.6]\n",
            " [ 40.6  40.1]\n",
            " [ 42.5  42. ]\n",
            " [  7.6  42.4]\n",
            " [ 37.3  28.5]\n",
            " [ 41.5  39.1]\n",
            " [ 63.2  53.7]\n",
            " [ 61.5  36.8]\n",
            " [ 30.9  40.6]\n",
            " [ 52.2  55.2]\n",
            " [ 38.9  39.3]\n",
            " [ 40.9  44.3]\n",
            " [ 50.   53.5]\n",
            " [ 28.9  25.3]\n",
            " [ 34.1  22.8]\n",
            " [ 55.1  51.7]\n",
            " [ 57.1  45.5]\n",
            " [ 43.7  34.4]\n",
            " [ 42.3  31.6]\n",
            " [ 21.5  25.9]\n",
            " [ 45.1  49.5]\n",
            " [ 22.   24.7]\n",
            " [ 33.6  51.7]\n",
            " [ 23.   29.7]\n",
            " [ 50.7  45.4]\n",
            " [ 61.5  50.5]\n",
            " [ 42.3  26.5]\n",
            " [ 29.5  30.1]\n",
            " [ 48.2  46.1]\n",
            " [ 21.7  28.9]\n",
            " [ 49.8  54.4]\n",
            " [ 17.4  15. ]\n",
            " [ 50.8  44.9]\n",
            " [ 34.2  29.8]\n",
            " [ 31.3  23.6]\n",
            " [ 37.9  48. ]\n",
            " [ 15.4  16.7]\n",
            " [ 33.6  40.9]\n",
            " [ 46.6  40.2]\n",
            " [ 15.4  12.9]\n",
            " [ 22.9  21.3]\n",
            " [ 52.5  62.1]\n",
            " [ 62.2  63.9]\n",
            " [ 31.5  40.3]\n",
            " [ 53.3  42.2]\n",
            " [ 20.7  19.1]\n",
            " [ 28.9  28.4]\n",
            " [ 30.9  28.5]\n",
            " [ 55.   60.7]\n",
            " [ 41.1  37.5]\n",
            " [ 42.5  39.3]\n",
            " [ 23.   28.8]\n",
            " [ 61.5  42.3]\n",
            " [ 63.3  44.3]\n",
            " [ 42.3  42.6]\n",
            " [ 47.9  57.4]\n",
            " [ 39.4  42.2]\n",
            " [ 25.6  25.7]\n",
            " [ 15.5  13.2]\n",
            " [ 13.7  27. ]\n",
            " [ 58.8  56.2]\n",
            " [ 46.6  38.3]\n",
            " [ 22.3  20.8]\n",
            " [ 50.7  43.1]\n",
            " [ 78.   78.3]\n",
            " [ 27.7  20.9]\n",
            " [ 35.1  32.5]\n",
            " [ 30.7  33.4]\n",
            " [ 27.7  32.1]\n",
            " [ 11.6  19.2]\n",
            " [ 51.   53. ]\n",
            " [ 54.8  38.2]\n",
            " [ 51.   46.7]\n",
            " [ 26.5  24.6]\n",
            " [ 36.5  36.2]]\n"
          ],
          "name": "stdout"
        }
      ]
    },
    {
      "cell_type": "code",
      "metadata": {
        "id": "wX-V-mxnpBYJ",
        "colab_type": "code",
        "outputId": "53d1da72-9fa7-486a-d182-44aa93e9a5c2",
        "colab": {
          "base_uri": "https://localhost:8080/",
          "height": 33
        }
      },
      "source": [
        "# Evaluating the Model Performance\n",
        "from sklearn.metrics import r2_score\n",
        "r2_score(y_test, y_pred)"
      ],
      "execution_count": 0,
      "outputs": [
        {
          "output_type": "execute_result",
          "data": {
            "text/plain": [
              "0.18752616239593012"
            ]
          },
          "metadata": {
            "tags": []
          },
          "execution_count": 112
        }
      ]
    },
    {
      "cell_type": "markdown",
      "metadata": {
        "id": "hJRMLCwxphuC",
        "colab_type": "text"
      },
      "source": [
        "# **Random Forest Regression**"
      ]
    },
    {
      "cell_type": "code",
      "metadata": {
        "id": "ddsCTG8epBs1",
        "colab_type": "code",
        "colab": {}
      },
      "source": [
        "# Importing the libraries\n",
        "import numpy as np\n",
        "import matplotlib.pyplot as plt\n",
        "import pandas as pd"
      ],
      "execution_count": 0,
      "outputs": []
    },
    {
      "cell_type": "code",
      "metadata": {
        "id": "iHKpDDFop5K6",
        "colab_type": "code",
        "colab": {}
      },
      "source": [
        "# Importing the dataset\n",
        "dataset = pd.read_csv('datasets_88705_204267_Real estate (1).csv')\n",
        "X = dataset.iloc[:, :-1].values\n",
        "y = dataset.iloc[:, -1].values"
      ],
      "execution_count": 0,
      "outputs": []
    },
    {
      "cell_type": "code",
      "metadata": {
        "id": "mLBBx0Ivp5AK",
        "colab_type": "code",
        "colab": {}
      },
      "source": [
        "# Splitting the dataset into the Training set and Test set\n",
        "from sklearn.model_selection import train_test_split\n",
        "X_train, X_test, y_train, y_test = train_test_split(X, y, test_size = 0.2, random_state = 0)"
      ],
      "execution_count": 0,
      "outputs": []
    },
    {
      "cell_type": "code",
      "metadata": {
        "id": "XibG9bg7p40N",
        "colab_type": "code",
        "outputId": "d7930227-d133-4991-b7ce-a836c6cdaf96",
        "colab": {
          "base_uri": "https://localhost:8080/",
          "height": 134
        }
      },
      "source": [
        "# Training the Random Forest Regression model on the whole dataset\n",
        "from sklearn.ensemble import RandomForestRegressor\n",
        "regressor = RandomForestRegressor(n_estimators = 10, random_state = 0)\n",
        "regressor.fit(X_train, y_train)"
      ],
      "execution_count": 0,
      "outputs": [
        {
          "output_type": "execute_result",
          "data": {
            "text/plain": [
              "RandomForestRegressor(bootstrap=True, ccp_alpha=0.0, criterion='mse',\n",
              "                      max_depth=None, max_features='auto', max_leaf_nodes=None,\n",
              "                      max_samples=None, min_impurity_decrease=0.0,\n",
              "                      min_impurity_split=None, min_samples_leaf=1,\n",
              "                      min_samples_split=2, min_weight_fraction_leaf=0.0,\n",
              "                      n_estimators=10, n_jobs=None, oob_score=False,\n",
              "                      random_state=0, verbose=0, warm_start=False)"
            ]
          },
          "metadata": {
            "tags": []
          },
          "execution_count": 117
        }
      ]
    },
    {
      "cell_type": "code",
      "metadata": {
        "id": "jvVL6C0Ip4lb",
        "colab_type": "code",
        "outputId": "9b8e1d7e-f45e-41ad-81a9-6a00fac4590d",
        "colab": {
          "base_uri": "https://localhost:8080/",
          "height": 1000
        }
      },
      "source": [
        "# Predicting the Test set results\n",
        "y_pred = regressor.predict(X_test)\n",
        "np.set_printoptions(precision=2)\n",
        "print(np.concatenate((y_pred.reshape(len(y_pred),1), y_test.reshape(len(y_test),1)),1))"
      ],
      "execution_count": 0,
      "outputs": [
        {
          "output_type": "stream",
          "text": [
            "[[77.81 45.3 ]\n",
            " [15.94 14.4 ]\n",
            " [54.52 46.  ]\n",
            " [17.7  15.6 ]\n",
            " [35.64 50.2 ]\n",
            " [36.91 38.1 ]\n",
            " [44.47 48.5 ]\n",
            " [37.94 41.4 ]\n",
            " [55.82 51.6 ]\n",
            " [43.96 40.1 ]\n",
            " [41.51 42.  ]\n",
            " [18.35 42.4 ]\n",
            " [35.16 28.5 ]\n",
            " [42.21 39.1 ]\n",
            " [55.57 53.7 ]\n",
            " [48.06 36.8 ]\n",
            " [37.37 40.6 ]\n",
            " [48.9  55.2 ]\n",
            " [43.44 39.3 ]\n",
            " [44.51 44.3 ]\n",
            " [52.37 53.5 ]\n",
            " [27.15 25.3 ]\n",
            " [36.76 22.8 ]\n",
            " [47.65 51.7 ]\n",
            " [54.58 45.5 ]\n",
            " [42.66 34.4 ]\n",
            " [43.03 31.6 ]\n",
            " [22.23 25.9 ]\n",
            " [51.54 49.5 ]\n",
            " [25.82 24.7 ]\n",
            " [49.85 51.7 ]\n",
            " [30.79 29.7 ]\n",
            " [48.61 45.4 ]\n",
            " [45.65 50.5 ]\n",
            " [42.77 26.5 ]\n",
            " [29.06 30.1 ]\n",
            " [47.67 46.1 ]\n",
            " [26.31 28.9 ]\n",
            " [53.29 54.4 ]\n",
            " [13.63 15.  ]\n",
            " [47.58 44.9 ]\n",
            " [35.63 29.8 ]\n",
            " [29.21 23.6 ]\n",
            " [49.31 48.  ]\n",
            " [16.6  16.7 ]\n",
            " [40.97 40.9 ]\n",
            " [40.28 40.2 ]\n",
            " [17.25 12.9 ]\n",
            " [24.96 21.3 ]\n",
            " [52.01 62.1 ]\n",
            " [55.61 63.9 ]\n",
            " [35.97 40.3 ]\n",
            " [48.67 42.2 ]\n",
            " [15.97 19.1 ]\n",
            " [27.29 28.4 ]\n",
            " [34.36 28.5 ]\n",
            " [53.08 60.7 ]\n",
            " [38.17 37.5 ]\n",
            " [40.23 39.3 ]\n",
            " [29.18 28.8 ]\n",
            " [42.71 42.3 ]\n",
            " [55.25 44.3 ]\n",
            " [40.25 42.6 ]\n",
            " [56.05 57.4 ]\n",
            " [44.06 42.2 ]\n",
            " [25.31 25.7 ]\n",
            " [15.07 13.2 ]\n",
            " [19.3  27.  ]\n",
            " [57.37 56.2 ]\n",
            " [39.19 38.3 ]\n",
            " [24.75 20.8 ]\n",
            " [54.63 43.1 ]\n",
            " [44.15 78.3 ]\n",
            " [27.39 20.9 ]\n",
            " [39.08 32.5 ]\n",
            " [29.4  33.4 ]\n",
            " [27.3  32.1 ]\n",
            " [16.46 19.2 ]\n",
            " [50.66 53.  ]\n",
            " [40.25 38.2 ]\n",
            " [48.92 46.7 ]\n",
            " [27.09 24.6 ]\n",
            " [39.35 36.2 ]]\n"
          ],
          "name": "stdout"
        }
      ]
    },
    {
      "cell_type": "code",
      "metadata": {
        "id": "PM_DYiOhqEQG",
        "colab_type": "code",
        "outputId": "5dcb2d6d-14d6-4a50-9831-e768f96eb874",
        "colab": {
          "base_uri": "https://localhost:8080/",
          "height": 33
        }
      },
      "source": [
        "# Evaluating the Model Performance\n",
        "from sklearn.metrics import r2_score\n",
        "r2_score(y_test, y_pred)"
      ],
      "execution_count": 0,
      "outputs": [
        {
          "output_type": "execute_result",
          "data": {
            "text/plain": [
              "0.6400274263389361"
            ]
          },
          "metadata": {
            "tags": []
          },
          "execution_count": 119
        }
      ]
    }
  ]
}